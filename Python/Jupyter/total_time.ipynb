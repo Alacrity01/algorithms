{
 "cells": [
  {
   "cell_type": "code",
   "execution_count": 1,
   "id": "f0d855bd-5b1d-412b-9e7c-eb0d51420e6c",
   "metadata": {
    "tags": []
   },
   "outputs": [],
   "source": [
    "# !pip install pandas\n",
    "# !pip install tabulate\n",
    "import pandas as pd\n",
    "from tabulate import tabulate\n",
    "def print_table(df):\n",
    "\tprint(tabulate(df, headers='keys', tablefmt='psql'))"
   ]
  },
  {
   "cell_type": "code",
   "execution_count": 2,
   "id": "5b22e922-a54f-42bf-acfc-8204ed7f9dc6",
   "metadata": {
    "tags": []
   },
   "outputs": [
    {
     "name": "stdout",
     "output_type": "stream",
     "text": [
      "+----+------------+----------+--------------+\n",
      "|    | day        |   emp_id |   total_time |\n",
      "|----+------------+----------+--------------|\n",
      "|  0 | 2020-11-28 |        1 |          173 |\n",
      "|  1 | 2020-11-28 |        2 |           30 |\n",
      "|  2 | 2020-12-03 |        1 |           41 |\n",
      "|  3 | 2020-12-09 |        2 |           27 |\n",
      "+----+------------+----------+--------------+\n"
     ]
    }
   ],
   "source": [
    "data = {\n",
    "    'emp_id': [1, 1, 1, 2, 2],\n",
    "    'event_day': ['2020-11-28', '2020-11-28', '2020-12-03', '2020-11-28', '2020-12-09'],\n",
    "    'in_time': [4, 55, 1, 3, 47],\n",
    "    'out_time': [32, 200, 42, 33, 74]\n",
    "}\n",
    "\n",
    "employees = pd.DataFrame(data)\n",
    "def total_time(employees: pd.DataFrame) -> pd.DataFrame:\n",
    "\temployees['total_time'] = employees['out_time'] - employees['in_time']\n",
    "\temployees.drop(columns=['in_time', 'out_time'], inplace=True)\n",
    "\temployees.rename(columns={'event_day':'day'},inplace=True)\n",
    "\temployees = employees.groupby(['day', 'emp_id'], as_index=False)['total_time'].sum()\n",
    "\treturn employees\n",
    "\n",
    "employees = total_time(employees)\n",
    "print_table(employees)\n"
   ]
  },
  {
   "cell_type": "code",
   "execution_count": null,
   "id": "ccd3add3-2e76-43cc-b0ad-7b1cefc242e2",
   "metadata": {},
   "outputs": [],
   "source": []
  }
 ],
 "metadata": {
  "kernelspec": {
   "display_name": "Python 3 (ipykernel)",
   "language": "python",
   "name": "python3"
  },
  "language_info": {
   "codemirror_mode": {
    "name": "ipython",
    "version": 3
   },
   "file_extension": ".py",
   "mimetype": "text/x-python",
   "name": "python",
   "nbconvert_exporter": "python",
   "pygments_lexer": "ipython3",
   "version": "3.11.6"
  },
  "widgets": {
   "application/vnd.jupyter.widget-state+json": {
    "state": {},
    "version_major": 2,
    "version_minor": 0
   }
  }
 },
 "nbformat": 4,
 "nbformat_minor": 5
}
